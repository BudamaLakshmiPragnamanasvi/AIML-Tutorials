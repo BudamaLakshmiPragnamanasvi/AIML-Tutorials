{
  "nbformat": 4,
  "nbformat_minor": 0,
  "metadata": {
    "colab": {
      "provenance": [],
      "authorship_tag": "ABX9TyOHpP+CbEgBhebJu/WM2CsY",
      "include_colab_link": true
    },
    "kernelspec": {
      "name": "python3",
      "display_name": "Python 3"
    },
    "language_info": {
      "name": "python"
    }
  },
  "cells": [
    {
      "cell_type": "markdown",
      "metadata": {
        "id": "view-in-github",
        "colab_type": "text"
      },
      "source": [
        "<a href=\"https://colab.research.google.com/github/BudamaLakshmiPragnamanasvi/AIML-Tutorials/blob/main/Internal_1_.ipynb\" target=\"_parent\"><img src=\"https://colab.research.google.com/assets/colab-badge.svg\" alt=\"Open In Colab\"/></a>"
      ]
    },
    {
      "cell_type": "code",
      "execution_count": null,
      "metadata": {
        "id": "EPpBrhBK7Myy"
      },
      "outputs": [],
      "source": [
        "REWARD = -0.01\n",
        "DISCOUNT = 0.99\n",
        "MAX_ERROR = 10**(-3)\n",
        "NUM_ACTIONS = 4\n",
        "ACTIONS = [(1, 0), (0, -1), (-1, 0), (0, 1)]\n",
        "NUM_ROW = 3\n",
        "NUM_COL = 4\n",
        "\n",
        "U = [[0, 0, 0, 1],\n",
        "     [0, 0, 0, -1],\n",
        "     [0, 0, 0, 0],\n",
        "     [0, 0, 0, 0]]\n",
        "\n",
        "def printEnvironment(arr, policy=False):\n",
        "    res = \"\"\n",
        "    for r in range(NUM_ROW):\n",
        "        res += \"|\"\n",
        "        for c in range(NUM_COL):\n",
        "            if r == c == 1:\n",
        "                val = \"WALL\"\n",
        "            elif r <= 1 and c == 3:\n",
        "                val = \"+1\" if r == 0 else \"-1\"\n",
        "            else:\n",
        "                if policy:\n",
        "                    val = [\"Down\", \"Left\", \"Up\", \"Right\"][arr[r][c]]\n",
        "                else:\n",
        "                    val = str(arr[r][c])\n",
        "            res += \" \" + val[:5].ljust(5) + \" |\"\n",
        "        res += \"\\n\"\n",
        "    print(res)\n",
        "\n",
        "def getU(U, r, c, action):\n",
        "    dr, dc = ACTIONS[action]\n",
        "    newR, newC = r + dr, c + dc\n",
        "    if newR < 0 or newC < 0 or newR >= NUM_ROW or newC >= NUM_COL or (newR == newC == 1):\n",
        "        return U[r][c]\n",
        "    else:\n",
        "        return U[newR][newC]\n",
        "\n",
        "def calculateU(U, r, c, action):\n",
        "    u = REWARD\n",
        "    u += 0.1 * DISCOUNT * getU(U, r, c, (action - 1) % 4)\n",
        "    u += 0.8 * DISCOUNT * getU(U, r, c, action)\n",
        "    u += 0.1 * DISCOUNT * getU(U, r, c, (action + 1) % 4)\n",
        "    return u\n",
        "\n",
        "def valueIteration(U):\n",
        "    print(\"During the value iteration:\\n\")\n",
        "    while True:\n",
        "        nextU = [[0, 0, 0, 1],\n",
        "                 [0, 0, 0, -1],\n",
        "                 [0, 0, 0, 0],\n",
        "                 [0, 0, 0, 0]]\n",
        "        error = 0\n",
        "        for r in range(NUM_ROW):\n",
        "            for c in range(NUM_COL):\n",
        "                if (r <= 1 and c == 3) or (r == c == 1):\n",
        "                    continue\n",
        "                nextU[r][c] = max([calculateU(U, r, c, action) for action in range(NUM_ACTIONS)])\n",
        "                error = max(error, abs(nextU[r][c] - U[r][c]))\n",
        "        U = nextU\n",
        "        printEnvironment(U)\n",
        "        if error < MAX_ERROR * (1 - DISCOUNT) / DISCOUNT:\n",
        "            break\n",
        "    return U\n",
        "\n",
        "def getOptimalPolicy(U):\n",
        "    policy = [[-1, -1, -1, -1] for _ in range(NUM_ROW)]\n",
        "    for r in range(NUM_ROW):\n",
        "        for c in range(NUM_COL):\n",
        "            if (r <= 1 and c == 3) or (r == c == 1):\n",
        "                continue\n",
        "            maxAction, maxU = None, -float(\"inf\")\n",
        "            for action in range(NUM_ACTIONS):\n",
        "                u = calculateU(U, r, c, action)\n",
        "                if u > maxU:\n",
        "                    maxAction, maxU = action, u\n",
        "            policy[r][c] = maxAction\n",
        "    return policy\n",
        "\n",
        "print(\"The initial U is:\\n\")\n",
        "printEnvironment(U)\n",
        "U = valueIteration(U)\n",
        "policy = getOptimalPolicy(U)\n",
        "print(\"The optimal policy is:\\n\")\n",
        "printEnvironment(policy, True)\n"
      ]
    }
  ]
}